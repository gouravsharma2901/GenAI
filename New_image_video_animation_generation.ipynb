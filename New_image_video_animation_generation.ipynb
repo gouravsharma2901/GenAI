{
  "cells": [
    {
      "cell_type": "markdown",
      "metadata": {
        "id": "view-in-github",
        "colab_type": "text"
      },
      "source": [
        "<a href=\"https://colab.research.google.com/github/gouravsharma2901/GenAI/blob/main/New_image_video_animation_generation.ipynb\" target=\"_parent\"><img src=\"https://colab.research.google.com/assets/colab-badge.svg\" alt=\"Open In Colab\"/></a>"
      ]
    },
    {
      "cell_type": "markdown",
      "source": [
        "# **Title of the Project** : Image and GIF Generative AI based on Replicate API\n",
        "\n",
        "\n",
        "\n",
        "\n",
        "\n"
      ],
      "metadata": {
        "id": "M49lstKso4R4"
      }
    },
    {
      "cell_type": "markdown",
      "source": [
        "# Project Scope :\n",
        "The project aims to leverage Replicate API for Image and GIF generation using AI. It involves implementing the API to produce images and GIFs based on user prompts.\n",
        "\n",
        "The scope encompasses exploring Replicate's capabilities, integrating API calls, and developing a user-friendly interface for generating and displaying AI-generated visual content."
      ],
      "metadata": {
        "id": "ssJFs-pD6jnp"
      }
    },
    {
      "cell_type": "markdown",
      "source": [
        "#**Group Members**\n",
        "* GAURAV SHARMA\n",
        "\n",
        "\n",
        "\n",
        "    STUDENT ID - 4342968\n",
        "* LOVEKARAN SHARMA\n",
        "\n",
        "\n",
        "\n",
        "    STUDENT ID - 4339382\n",
        "\n"
      ],
      "metadata": {
        "id": "-ipdHktp9yIQ"
      }
    },
    {
      "cell_type": "markdown",
      "source": [
        "# Detailed Description :\n",
        "The project is concerned with using the Replicate API to generate images and GIFs using AI. It entails incorporating the Replicate API into the system, which allows users to enter prompts and receive visually appealing results.\n",
        "\n",
        "Exploring various AI models accessible on Replicate, configuring API calls, and designing a user interface for seamless interaction are all part of the implementation. The goal is to provide a versatile tool for creating a variety of visual content based on user-supplied prompts."
      ],
      "metadata": {
        "id": "XidgDIqj7NDd"
      }
    },
    {
      "cell_type": "markdown",
      "source": [
        "# Objectives\n",
        "- The goals of this project are to integrate the Replicate API for image and GIF production, allowing users to create visually appealing material using AI.\n",
        "- Understanding Replicate's model capabilities, integrating API functionalities into the system, optimizing for user prompt inputs, and building a user-friendly interface are all important aims.\n",
        "- The project's goal is to provide a versatile and efficient tool for creating various images and GIFs depending on user-supplied prompts.\n",
        "- Aligning project goals with the Replicate API for picture and GIF production, stressing model capabilities, quick API integration, streamlined user prompt handling, and the construction of a user-friendly interface for diverse content creation."
      ],
      "metadata": {
        "id": "LIMZbAotNgUT"
      }
    },
    {
      "cell_type": "markdown",
      "source": [
        "# Outcomes:\n",
        "-  A functional system that generates photos and GIFs using the Replicate API is expected to be ready to use .\n",
        "- A user-friendly interface should allow users to engage with prompts smoothly, allowing them to enter commands and obtain high-quality visual results.\n",
        "- Users will be able to produce unique and interesting photographs and GIFs that are personalized to their own criteria with the help of the project, demonstrating the wide variety of possibilities of Replicate's AI models.\n",
        "\n",
        "-  The project will deliver not only a functional system, but will also demonstrate the innovation of Replicate's AI models in producing unique and captivating visual results, empowering users to create distinctive and personalized content through intuitive interactions."
      ],
      "metadata": {
        "id": "ouFrlqNB6ax4"
      }
    },
    {
      "cell_type": "markdown",
      "source": [
        "# Modification /New specification Cell\n",
        "* To seamlessly execute models and generate content on the Replicate platform, the following modifications were made:\n",
        "\n",
        "+ Replicate Library Installation: The replicate library was installed using pip to enable smooth model execution and content generation on the Replicate platform.\n",
        "\n",
        "+ API Token Setup: To authenticate communication between the Colab notebook and Replicate, an API token was set up.\n",
        "\n",
        "+ Image Generation: Image generation is achieved by providing a prompt and utilizing replicate.run along with a pre-trained model.\n",
        "\n",
        "+ Video/GIF Creation: For video or GIF creation, a different model is employed. Additionally, start and end prompts, the output format (GIF), and the ping-pong effect are specified.\n",
        "\n",
        "## Justification and importance of Modifications:\n",
        "- The utilization of Replicate API for Image and GIF generation holds significance in providing users with a powerful and accessible tool for creative content generation.\n",
        "-  This project addresses the growing demand for AI-driven visual content creation, catering to diverse user needs.\n",
        "-  It facilitates artistic expression, marketing content creation, and educational materials.\n",
        "-  Additionally, it showcases the potential of AI in streamlining and enhancing visual content generation processes, marking a step forward in innovative and efficient digital creation."
      ],
      "metadata": {
        "id": "1FQxZRo5-NXM"
      }
    },
    {
      "cell_type": "markdown",
      "source": [
        "# **Criteria specific**\n",
        "\n",
        "\n",
        "## Relevance and application\n",
        "Implementing the Replicate API for Image and GIF generation introduces algorithmic advancements in AI-driven visual content creation. This project aims to streamline and enhance efficiency in generating diverse and innovative visuals.\n",
        "\n",
        "\n",
        " The application of this technology extends to creative fields, marketing, and education, offering a versatile tool for algorithmic art generation. The project's relevance lies in its potential to bring about efficient algorithmic changes, driving innovation and creativity in the realm of AI-based visual content generation.\n",
        "\n",
        "## Innovation:\n",
        "The innovation in utilizing the Replicate API for Image and GIF generation lies in its transformative approach to creative content creation. By harnessing cutting-edge AI models, this project aims to revolutionize visual storytelling and artistic expression.\n",
        "\n",
        "The innovation extends to providing users with an intuitive interface for prompt-based generation, enabling the creation of dynamic and unique visuals. This endeavor contributes to the evolving landscape of AI-driven creativity, fostering innovation and pushing the boundaries of generative art.\n",
        "\n",
        "\n",
        "## Technical Proficiency:\n",
        "\n",
        "- Achieving technical proficiency in this project involves mastering the integration of Replicate API into the system.\n",
        "- It encompasses a thorough understanding of AI model configurations within Replicate, optimizing API calls, and implementing prompt-based user interactions.\n",
        "-  Proficiency also extends to managing API responses, handling errors, and ensuring seamless functionality.\n",
        "-  The technical aspect involves a comprehensive grasp of Replicate's documentation, enabling efficient utilization of its capabilities for generating high-quality images and GIFs based on user prompts."
      ],
      "metadata": {
        "id": "LZX1oiB09M9C"
      }
    },
    {
      "cell_type": "markdown",
      "source": [
        "##1.Install Replicate using pip.\n",
        "The provided code is a command for installing the \"Replicate\" Python package using the pip package manager. Replicate is likely a tool or library for replication-related tasks in data science or software development."
      ],
      "metadata": {
        "id": "03xL0Alon2h6"
      }
    },
    {
      "cell_type": "code",
      "execution_count": null,
      "metadata": {
        "colab": {
          "base_uri": "https://localhost:8080/"
        },
        "id": "K-f4rzIDbk8n",
        "outputId": "7828bba2-f4e5-4572-bbb8-133d9378c8e0"
      },
      "outputs": [
        {
          "output_type": "stream",
          "name": "stdout",
          "text": [
            "Collecting replicate\n",
            "  Downloading replicate-0.21.0-py3-none-any.whl (34 kB)\n",
            "Collecting httpx<1,>=0.21.0 (from replicate)\n",
            "  Downloading httpx-0.25.2-py3-none-any.whl (74 kB)\n",
            "\u001b[2K     \u001b[90m━━━━━━━━━━━━━━━━━━━━━━━━━━━━━━━━━━━━━━━━\u001b[0m \u001b[32m75.0/75.0 kB\u001b[0m \u001b[31m4.2 MB/s\u001b[0m eta \u001b[36m0:00:00\u001b[0m\n",
            "\u001b[?25hRequirement already satisfied: packaging in /usr/local/lib/python3.10/dist-packages (from replicate) (23.2)\n",
            "Requirement already satisfied: pydantic>1 in /usr/local/lib/python3.10/dist-packages (from replicate) (1.10.13)\n",
            "Requirement already satisfied: typing-extensions>=4.5.0 in /usr/local/lib/python3.10/dist-packages (from replicate) (4.5.0)\n",
            "Requirement already satisfied: anyio in /usr/local/lib/python3.10/dist-packages (from httpx<1,>=0.21.0->replicate) (3.7.1)\n",
            "Requirement already satisfied: certifi in /usr/local/lib/python3.10/dist-packages (from httpx<1,>=0.21.0->replicate) (2023.11.17)\n",
            "Collecting httpcore==1.* (from httpx<1,>=0.21.0->replicate)\n",
            "  Downloading httpcore-1.0.2-py3-none-any.whl (76 kB)\n",
            "\u001b[2K     \u001b[90m━━━━━━━━━━━━━━━━━━━━━━━━━━━━━━━━━━━━━━━━\u001b[0m \u001b[32m76.9/76.9 kB\u001b[0m \u001b[31m5.8 MB/s\u001b[0m eta \u001b[36m0:00:00\u001b[0m\n",
            "\u001b[?25hRequirement already satisfied: idna in /usr/local/lib/python3.10/dist-packages (from httpx<1,>=0.21.0->replicate) (3.6)\n",
            "Requirement already satisfied: sniffio in /usr/local/lib/python3.10/dist-packages (from httpx<1,>=0.21.0->replicate) (1.3.0)\n",
            "Collecting h11<0.15,>=0.13 (from httpcore==1.*->httpx<1,>=0.21.0->replicate)\n",
            "  Downloading h11-0.14.0-py3-none-any.whl (58 kB)\n",
            "\u001b[2K     \u001b[90m━━━━━━━━━━━━━━━━━━━━━━━━━━━━━━━━━━━━━━━━\u001b[0m \u001b[32m58.3/58.3 kB\u001b[0m \u001b[31m7.8 MB/s\u001b[0m eta \u001b[36m0:00:00\u001b[0m\n",
            "\u001b[?25hRequirement already satisfied: exceptiongroup in /usr/local/lib/python3.10/dist-packages (from anyio->httpx<1,>=0.21.0->replicate) (1.2.0)\n",
            "Installing collected packages: h11, httpcore, httpx, replicate\n",
            "Successfully installed h11-0.14.0 httpcore-1.0.2 httpx-0.25.2 replicate-0.21.0\n"
          ]
        }
      ],
      "source": [
        "# @title Install Replicate\n",
        "!pip install replicate"
      ]
    },
    {
      "cell_type": "markdown",
      "source": [
        "##2. Set Replicate API token.\n",
        "\n",
        "This code assigns a Replicate API token to the environment variable \"REPLICATE_API_TOKEN\" using the generated token . The token authenticates access to Replicate services. The comment provides a link to generate such tokens on Replicate's website."
      ],
      "metadata": {
        "id": "sFTSpliVoGgA"
      }
    },
    {
      "cell_type": "code",
      "execution_count": null,
      "metadata": {
        "id": "cFmhr3PSf4G2"
      },
      "outputs": [],
      "source": [
        "API = \"r8_JNE8MEUaQHXlATe8iQFRhLT0MgkpqPU22tg0G\"\n",
        "import os\n",
        "\n",
        "os.environ[\"REPLICATE_API_TOKEN\"] = API #find it here: https://replicate.com/signin?next=/account/api-tokens\n"
      ]
    },
    {
      "cell_type": "markdown",
      "source": [
        "##3. Generate image with Replicate.\n",
        "\n",
        "This code employs Replicate to generate an image based on the prompt \"MAN IS WEARING SUNGLASSES.\" It utilizes the stable-diffusion model from stability-ai, and the resulting image is stored in the `output` variable, which likely contains details or metadata from the generation process.\n",
        "\n",
        "\n",
        "\n",
        "\n"
      ],
      "metadata": {
        "id": "99b2KkrToOPY"
      }
    },
    {
      "cell_type": "code",
      "execution_count": null,
      "metadata": {
        "colab": {
          "base_uri": "https://localhost:8080/"
        },
        "id": "0zz83wA6cqSF",
        "outputId": "e38b687f-a10f-458a-8438-cb610874ee60"
      },
      "outputs": [
        {
          "output_type": "execute_result",
          "data": {
            "text/plain": [
              "['https://replicate.delivery/pbxt/YPlZTujqb9JUHJc7RpFeN5wqhztZXUOo4BnDDVC4reOU2sejA/out-0.png']"
            ]
          },
          "metadata": {},
          "execution_count": 3
        }
      ],
      "source": [
        "# @title Generate Image\n",
        "prompt = \"MAN IS WEARING SUNGLASSES\"\n",
        "import replicate\n",
        "\n",
        "output = replicate.run(\n",
        "  \"stability-ai/stable-diffusion:27b93a2413e7f36cd83da926f3656280b2931564ff050bf9575f1fdf9bcd7478\",\n",
        "  input={\"prompt\":prompt}\n",
        ")\n",
        "\n",
        "output"
      ]
    },
    {
      "cell_type": "markdown",
      "source": [
        "##4. Display Replicate-generated image.\n",
        "\n",
        "\n",
        "This code uses IPython's `Image` module to display an image generated by Replicate. The variable `output_image` contains the image URL obtained from the previous Replicate generation, and it is presented using the `Image` class.\n",
        "\n",
        "\n",
        "\n",
        "\n",
        "\n",
        "\n"
      ],
      "metadata": {
        "id": "0HNTesaHoSYo"
      }
    },
    {
      "cell_type": "code",
      "execution_count": null,
      "metadata": {
        "colab": {
          "base_uri": "https://localhost:8080/",
          "height": 534
        },
        "id": "hwXEISnemCLj",
        "outputId": "7d34bd6f-153e-4052-af37-dc8945dc34ed"
      },
      "outputs": [
        {
          "output_type": "execute_result",
          "data": {
            "text/html": [
              "<img src=\"https://replicate.delivery/pbxt/YPlZTujqb9JUHJc7RpFeN5wqhztZXUOo4BnDDVC4reOU2sejA/out-0.png\"/>"
            ],
            "text/plain": [
              "<IPython.core.display.Image object>"
            ]
          },
          "metadata": {},
          "execution_count": 4
        }
      ],
      "source": [
        "\n",
        "from IPython.display import Image\n",
        "output_image = output\n",
        "Image(url=output_image[0])"
      ]
    },
    {
      "cell_type": "markdown",
      "source": [
        "##5. Generate animated GIF with Replicate API.\n",
        "\n",
        "To create an animated GIF, this code makes use of Replicate. Beginning with \"MAN IS WEARING SUNGLASSES\" and concluding with \"man is removing the sunglasses he wore,\" the prompts depict a scenario. With a ping-pong effect in GIF format, the animation is created using the stable-diffusion-animation model. The information that are obtained are saved in the `output} variable."
      ],
      "metadata": {
        "id": "tlvYwhh7oVq_"
      }
    },
    {
      "cell_type": "code",
      "execution_count": null,
      "metadata": {
        "colab": {
          "base_uri": "https://localhost:8080/"
        },
        "id": "Misa5E4QiWNZ",
        "outputId": "d23292ce-6955-4efe-b64d-465f4fbcd5e5"
      },
      "outputs": [
        {
          "output_type": "execute_result",
          "data": {
            "text/plain": [
              "<generator object Prediction.output_iterator at 0x78f2b21b2570>"
            ]
          },
          "metadata": {},
          "execution_count": 9
        }
      ],
      "source": [
        "# @title Video/gif/animation/Generation\n",
        "import replicate\n",
        "\n",
        "output = replicate.run(\n",
        "    \"andreasjansson/stable-diffusion-animation:ca1f5e306e5721e19c473e0d094e6603f0456fe759c10715fcd6c1b79242d4a5\",\n",
        "    input={\n",
        "        \"prompt_start\": \"MAN IS WEARING SUNGLASSES\",\n",
        "        \"prompt_end\": \"man removed the sunglasses he wore\",\n",
        "        \"output_format\": \"gif\",\n",
        "        \"gif_ping_pong\": True\n",
        "    }\n",
        ")\n",
        "\n",
        "output\n"
      ]
    },
    {
      "cell_type": "markdown",
      "source": [
        "## 6.Print Replicate output details.\n",
        "\n",
        "This code iterates through the items in the `output` variable, likely containing details or metadata generated by the Replicate process. The comment refers to the Replicate documentation for understanding the output schema, specifically for the \"andreasjansson/stable-diffusion-animation\" model.\n",
        "\n",
        "\n",
        "\n",
        "\n",
        "\n"
      ],
      "metadata": {
        "id": "kNNm0SY7oY1P"
      }
    },
    {
      "cell_type": "code",
      "execution_count": null,
      "metadata": {
        "id": "BB0LZJTyjA7Z",
        "outputId": "ece27965-23cf-4c71-d329-86cfd1575af8",
        "colab": {
          "base_uri": "https://localhost:8080/"
        }
      },
      "outputs": [
        {
          "output_type": "stream",
          "name": "stdout",
          "text": [
            "https://replicate.delivery/pbxt/T39YQq4DpLrLGVMJ300iTeZXBeTKrrvVHzqkiY8BFoGK9sejA/video.gif\n"
          ]
        }
      ],
      "source": [
        "# @title generate video\n",
        "for item in output:\n",
        "     #https://replicate.com/andreasjansson/stable-diffusion-animation/versions/ca1f5e306e5721e19c473e0d094e6603f0456fe759c10715fcd6c1b79242d4a5/api#output-schema\n",
        "    print(item)"
      ]
    },
    {
      "cell_type": "markdown",
      "source": [
        "## 7. Get Colab-ready video URL.\n",
        "\n",
        "This bit of code define the variable gif_url to hold a video URL that works with Colab. A section of the {item} variable is extracted, which shows how the Replicate-generated video URL has been modified for Colab use.\n",
        "\n",
        "\n",
        "\n",
        "\n",
        "\n"
      ],
      "metadata": {
        "id": "w6fZwjtKoggI"
      }
    },
    {
      "cell_type": "code",
      "execution_count": null,
      "metadata": {
        "id": "fuPgsixhkxM4"
      },
      "outputs": [],
      "source": [
        "# @title get the video on colab\n",
        "gif_url= item[0:len(item)]"
      ]
    },
    {
      "cell_type": "markdown",
      "source": [
        " ## 8.Fetch, display, and save GIF.\n",
        "\n",
        "\n",
        " This code retrieves a GIF using the provided URL (`gif_url`). It displays the GIF in the notebook, saves it locally as \"gif_output.gif,\" and then shows the saved GIF using the PIL library. If fetching fails, it prints an error message.\n",
        "\n",
        "\n",
        "\n",
        "\n",
        "\n"
      ],
      "metadata": {
        "id": "Hmz6QKmwUmw6"
      }
    },
    {
      "cell_type": "code",
      "execution_count": null,
      "metadata": {
        "colab": {
          "base_uri": "https://localhost:8080/",
          "height": 534
        },
        "id": "6VPPvsE3km93",
        "outputId": "3dd5c7ee-aa09-4520-aebc-fc950834a1d9"
      },
      "outputs": [
        {
          "output_type": "display_data",
          "data": {
            "text/html": [
              "<img src=\"https://replicate.delivery/pbxt/T39YQq4DpLrLGVMJ300iTeZXBeTKrrvVHzqkiY8BFoGK9sejA/video.gif\"/>"
            ],
            "text/plain": [
              "<IPython.core.display.Image object>"
            ]
          },
          "metadata": {}
        }
      ],
      "source": [
        "# @title Show the video\n",
        "import requests\n",
        "from IPython.display import display, Image\n",
        "from PIL import Image as PILImage\n",
        "from io import BytesIO\n",
        "response = requests.get(gif_url)\n",
        "if response.status_code == 200:\n",
        "    # Display the GIF in the notebook\n",
        "    display(Image(url=gif_url))\n",
        "\n",
        "    # Save the GIF in the Colab environment\n",
        "    with open(\"gif_output.gif\", \"wb\") as f:\n",
        "        f.write(response.content)\n",
        "\n",
        "    # Show a saved GIF using PIL\n",
        "    saved_gif = PILImage.open(\"gif_output.gif\")\n",
        "    saved_gif.show()\n",
        "else:\n",
        "    print(\"Failed to fetch GIF\")\n"
      ]
    },
    {
      "cell_type": "markdown",
      "source": [
        "# References\n",
        "\n",
        "* IPython Documentation — IPython 8.18.1 documentation. (n.d.). https://ipython.readthedocs.io/en/stable/\n",
        "+ Module: display — IPython 3.2.1 documentation. (n.d.). https://ipython.org/ipython-doc/3/api/generated/IPython.display.html\n",
        "\n",
        "+ Turna.GitHub - turna1/GenAI: Here, we focus on educating and enlightening the community about various Generative AI models through hands-on coding tutorials and informative articles. GitHub. https://github.com/turna1/GenAI\n",
        "\n"
      ],
      "metadata": {
        "id": "_Lj16ky3-Wip"
      }
    },
    {
      "cell_type": "markdown",
      "source": [
        "#Video Link"
      ],
      "metadata": {
        "id": "sqI9Y8FP2qBW"
      }
    },
    {
      "cell_type": "markdown",
      "source": [
        "# Thank you\n",
        "\n",
        "---"
      ],
      "metadata": {
        "id": "LX6Dmm0EV0DT"
      }
    }
  ],
  "metadata": {
    "colab": {
      "provenance": [],
      "include_colab_link": true
    },
    "kernelspec": {
      "display_name": "Python 3",
      "name": "python3"
    },
    "language_info": {
      "name": "python"
    }
  },
  "nbformat": 4,
  "nbformat_minor": 0
}