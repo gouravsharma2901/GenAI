{
  "cells": [
    {
      "cell_type": "markdown",
      "metadata": {
        "id": "view-in-github",
        "colab_type": "text"
      },
      "source": [
        "<a href=\"https://colab.research.google.com/github/gouravsharma2901/GenAI/blob/main/New_image_video_animation_generation.ipynb\" target=\"_parent\"><img src=\"https://colab.research.google.com/assets/colab-badge.svg\" alt=\"Open In Colab\"/></a>"
      ]
    },
    {
      "cell_type": "markdown",
      "source": [
        "# **Title of the Project** :Generating AI Content using the Replica API\n",
        "\n",
        "\n",
        "\n",
        "\n",
        "\n"
      ],
      "metadata": {
        "id": "M49lstKso4R4"
      }
    },
    {
      "cell_type": "markdown",
      "source": [
        "# Project Scope :\n",
        "       \n",
        "  The goal of this project is to use a diabetes database to do in-depth data visualization and predictive analysis in order to learn what factors contribute to the development of diabetes. All aspects of data preparation, analysis, and visualization—including EDA, predictive modeling, and the development of interactive visualizations—are within the purview of this project."
      ],
      "metadata": {
        "id": "ssJFs-pD6jnp"
      }
    },
    {
      "cell_type": "markdown",
      "source": [
        "* Gaurav Sharma -\n",
        "+\n",
        "\n"
      ],
      "metadata": {
        "id": "-ipdHktp9yIQ"
      }
    },
    {
      "cell_type": "markdown",
      "source": [
        "# Detailed Description :\n",
        "\n",
        "The project can be broken down into two primary stages. In the first place, comprehensive data preprocessing techniques will be utilized in order to deal with missing values, outliers, and to standardize the data. This procedure guarantees that the dataset is clean and homogenous, so preparing it for statistical analysis that is more reliable.\n",
        "\n",
        " In the second step of the process, predictive models will be constructed using machine learning methods such as logistic regression, decision trees, and random forests. These models are going to be reviewed and adjusted in order to get the best possible performance in terms of forecasting the beginning of diabetes.\n",
        "This project's primary objective is to make use of sophisticated data analysis methods in order to forecast the possibility of developing diabetes based on a number of different health factors. In order to construct machine learning models that are capable of reliably predicting the risk of diabetes in individuals, the project intends to make use of a complete dataset pertaining to diabetes. Different parameters, such as age and body mass index, are included in the dataset.\n",
        "\n",
        "\n",
        "\n",
        "In addition, the project will place an emphasis on the visualization element by developing intelligent representations of the dataset. In order to visually investigate the connections that exist between various health characteristics and the influence that they have on diabetes prediction, a number of different visualization approaches, such as scatter plots, histograms, heatmaps, and interactive dashboards, will be utilized. In addition to assisting in the comprehension of the predictive patterns, these visualizations will also make it easier for healthcare professionals and other stakeholders to analyze the data."
      ],
      "metadata": {
        "id": "XidgDIqj7NDd"
      }
    },
    {
      "cell_type": "markdown",
      "source": [
        "# Objectives:\n",
        "    Developing a Cutting-Edge GAN for Image and GIF Synthesis:\n",
        "\n",
        "To foster groundbreaking advancements in the realm of image and GIF synthesis, we propose the development of an innovative Generative Adversarial Network (GAN) that leverages the advanced capabilities of Replicate and seamlessly integrates with external data sources via API features. This cutting-edge GAN will not only deliver exceptional quality and diversity in its outputs but also prioritize efficiency and scalability to meet the demands of today's rapidly evolving AI landscape.\n",
        "\n",
        "    Harnessing Replicate's Prowess:\n",
        "\n",
        "At the heart of our proposed GAN lies the integration of Replicate, a powerful platform that empowers developers to effortlessly deploy and manage their AI models. Replicate's robust infrastructure and user-friendly interface will prove instrumental in streamlining the development process, enabling us to swiftly refine and optimize our GAN model.\n",
        "\n",
        "    API-Driven Integration for Data Versatility:\n",
        "\n",
        "To ensure seamless compatibility with a wide range of data sources, our GAN will incorporate API features that facilitate effortless integration with external datasets. This API-driven approach will empower users to harness the power of our GAN with their own unique data, unlocking a world of possibilities for image and GIF synthesis.\n",
        "\n",
        "    Unparalleled Quality and Diversity:\n",
        "\n",
        "Our GAN is meticulously designed to generate images and GIFs of unparalleled quality and diversity. By leveraging state-of-the-art GAN architectures and advanced training techniques, we aim to push the boundaries of AI-powered image synthesis, delivering outputs that are both visually stunning and conceptually innovative.\n",
        "\n",
        "    Efficiency and Scalability at the Forefront:\n",
        "\n",
        "In today's data-driven world, efficiency and scalability are paramount. Our GAN is meticulously engineered to handle large datasets and complex computations with remarkable efficiency, ensuring that users can enjoy the benefits of our model without compromising speed or performance.\n",
        "\n",
        "    A Paradigm Shift in Image and GIF Synthesis:\n",
        "\n",
        "The proposed GAN represents a paradigm shift in the field of image and GIF synthesis. By combining cutting-edge GAN architectures, Replicate integration, and API-driven data versatility, our model is poised to revolutionize the way we create and manipulate visual content.\n",
        "\n",
        "\n",
        "\n",
        "\n",
        "\n"
      ],
      "metadata": {
        "id": "LIMZbAotNgUT"
      }
    },
    {
      "cell_type": "markdown",
      "source": [
        "# Outcomes:\n",
        "*  Providing a Generative Adversarial Network (GAN) that is of the best possible quality and is seamlessly connected with Replicate is the objective of this project. Consequently, this will make it possible to create GIFs and photos with a high level of realism.\n",
        "\n",
        "+ For the purpose of assuring adaptability and versatility with regard to the input of external data, provide a flawless demonstration of the functioning of the application programming interface (API).\n",
        "\n",
        "+ Obtaining positive feedback from users and making use of quantitative performance measurements are two ways to validate the effectiveness of the project."
      ],
      "metadata": {
        "id": "ouFrlqNB6ax4"
      }
    },
    {
      "cell_type": "markdown",
      "source": [
        "# Modification /New specification Cell\n",
        "* To seamlessly execute models and generate content on the Replicate platform, the following modifications were made:\n",
        "\n",
        "+ Replicate Library Installation: The replicate library was installed using pip to enable smooth model execution and content generation on the Replicate platform.\n",
        "\n",
        "+ API Token Setup: To authenticate communication between the Colab notebook and Replicate, an API token was set up.\n",
        "\n",
        "+ Image Generation: Image generation is achieved by providing a prompt and utilizing replicate.run along with a pre-trained model.\n",
        "\n",
        "+ Video/GIF Creation: For video or GIF creation, a different model is employed. Additionally, start and end prompts, the output format (GIF), and the ping-pong effect are specified.\n",
        "\n",
        "## Impact:\n",
        "* Increased Flexibility and Degrees of Personalization:\n",
        "\n",
        "The change that makes use of the Replicate API is extremely important for GenAI since it allows for smooth interaction with a variety of platforms and tools, which in turn enhances the possibilities of the system further.\n",
        "Impact: This update makes it possible for users of GenAI to personalize and adjust their experience by integrating a wide variety of data sources and apps developed by third parties. As a result, its utility may be expanded to encompass a wider range of domains and use cases.\n",
        "\n",
        "\n",
        "+ The enhancement of both scalability and performance:\n",
        "\n",
        "The significance of upgrading GenAI with the Replicate API lies in the fact that it enables scalability, which in turn enables it to effectively manage increasingly complex computations and larger datasets.\n",
        "The impact of this improvement is that it improves the speed of GenAI by utilizing the capabilities of the Replicate API to manage higher data loads. This results in faster processing times and improved efficiency for users.\n",
        "\n",
        "\n",
        "\n",
        "+ Providing Opportunities for Collaboration and Interoperability:\n",
        "\n",
        "The importance of integrating the Replicate API into GenAI lies in the fact that it encourages interoperability and facilitates collaboration across various users and information systems.\n",
        "Impact: As a result of this improvement, GenAI is now more flexible to the norms and protocols of the industry, which makes it easier for various AI platforms and stakeholders to collaborate and exchange data in a seamless manner.\n"
      ],
      "metadata": {
        "id": "1FQxZRo5-NXM"
      }
    },
    {
      "cell_type": "markdown",
      "source": [],
      "metadata": {
        "id": "45sfrfaK-cPp"
      }
    },
    {
      "cell_type": "markdown",
      "source": [
        "# **Criteria specific**\n",
        "\n",
        "Significance in Healthcare The project's primary relevance lies in the fact that it may be directly applied to healthcare facilities. By visually representing data related to diabetes, medical professionals are able to better understand the intricate interactions that exist between the many different health indicators that influence the onset of diabetes.\n",
        "\n",
        "The research intends to identify crucial relationships between lifestyle, clinical measurements, and the likelihood of developing diabetes by utilizing relevant data visualization approaches. This will be accomplished through the use of predictive insights. All of this information is helpful in making early predictions and taking preventative measures for people who are at danger.\n",
        "\n",
        "An Approach That Is Focused on the Patient The project's primary objective is to empower both patients and healthcare practitioners through the utilization of data visualization. Patients are able to better comprehend their risk factors through the use of visual representations, which in turn encourages proactive health management practice.\n",
        "\n",
        "## Innovation:\n",
        "\n",
        "- Advanced visualization techniques involve the utilization of cutting-edge visualization tools and approaches, such as interactive dashboards, advanced plots, and multidimensional visualizations, in order to show complicated data pertaining to diabetes in a manner that is simple to understand.\n",
        "\n",
        "- In order to provide a comprehensive understanding of diabetes risk factors and to enable a more nuanced predictive analysis, it is necessary to integrate many data sources in an innovative manner. These data sources include clinical, lifestyle, and demographic information.\n",
        "\n",
        "- User-centric design refers to the application of innovative user interface and design techniques to produce visualizations that are user-friendly and accessible to individuals who are concerned about their risk of developing diabetes, as well as researchers and healthcare professionals.\n",
        "\n",
        "## Technical Proficiency:\n",
        "\n",
        "- Expertise in Data Preprocessing: Capability in the techniques of data preprocessing, including the management of missing values, outliers, normalization, and feature engineering, in order to guarantee the quality and dependability of the data.\n",
        "- The ability to demonstrate skill in implementing a variety of machine learning algorithms for predictive modeling and evaluating the effectiveness of these algorithms using measures such as accuracy, precision, and recall is referred to as machine learning competency.\n",
        "- A proficiency in the use of visualization libraries and tools such as Matplotlib, Seaborn, or Plotly to generate meaningful, useful, and interactive visual representations for the purpose of data exploration is referred to as visualization skills."
      ],
      "metadata": {
        "id": "LZX1oiB09M9C"
      }
    },
    {
      "cell_type": "markdown",
      "source": [
        "##1.Install Replicate using pip.\n",
        "The provided code is a command for installing the \"Replicate\" Python package using the pip package manager. Replicate is likely a tool or library for replication-related tasks in data science or software development."
      ],
      "metadata": {
        "id": "03xL0Alon2h6"
      }
    },
    {
      "cell_type": "code",
      "execution_count": 1,
      "metadata": {
        "colab": {
          "base_uri": "https://localhost:8080/"
        },
        "id": "K-f4rzIDbk8n",
        "outputId": "3b0b1486-7d5f-4cba-e7f7-83bb26837943"
      },
      "outputs": [
        {
          "output_type": "stream",
          "name": "stdout",
          "text": [
            "Collecting replicate\n",
            "  Downloading replicate-0.21.0-py3-none-any.whl (34 kB)\n",
            "Collecting httpx<1,>=0.21.0 (from replicate)\n",
            "  Downloading httpx-0.25.2-py3-none-any.whl (74 kB)\n",
            "\u001b[2K     \u001b[90m━━━━━━━━━━━━━━━━━━━━━━━━━━━━━━━━━━━━━━━━\u001b[0m \u001b[32m75.0/75.0 kB\u001b[0m \u001b[31m4.4 MB/s\u001b[0m eta \u001b[36m0:00:00\u001b[0m\n",
            "\u001b[?25hRequirement already satisfied: packaging in /usr/local/lib/python3.10/dist-packages (from replicate) (23.2)\n",
            "Requirement already satisfied: pydantic>1 in /usr/local/lib/python3.10/dist-packages (from replicate) (1.10.13)\n",
            "Requirement already satisfied: typing-extensions>=4.5.0 in /usr/local/lib/python3.10/dist-packages (from replicate) (4.5.0)\n",
            "Requirement already satisfied: anyio in /usr/local/lib/python3.10/dist-packages (from httpx<1,>=0.21.0->replicate) (3.7.1)\n",
            "Requirement already satisfied: certifi in /usr/local/lib/python3.10/dist-packages (from httpx<1,>=0.21.0->replicate) (2023.11.17)\n",
            "Collecting httpcore==1.* (from httpx<1,>=0.21.0->replicate)\n",
            "  Downloading httpcore-1.0.2-py3-none-any.whl (76 kB)\n",
            "\u001b[2K     \u001b[90m━━━━━━━━━━━━━━━━━━━━━━━━━━━━━━━━━━━━━━━━\u001b[0m \u001b[32m76.9/76.9 kB\u001b[0m \u001b[31m10.0 MB/s\u001b[0m eta \u001b[36m0:00:00\u001b[0m\n",
            "\u001b[?25hRequirement already satisfied: idna in /usr/local/lib/python3.10/dist-packages (from httpx<1,>=0.21.0->replicate) (3.6)\n",
            "Requirement already satisfied: sniffio in /usr/local/lib/python3.10/dist-packages (from httpx<1,>=0.21.0->replicate) (1.3.0)\n",
            "Collecting h11<0.15,>=0.13 (from httpcore==1.*->httpx<1,>=0.21.0->replicate)\n",
            "  Downloading h11-0.14.0-py3-none-any.whl (58 kB)\n",
            "\u001b[2K     \u001b[90m━━━━━━━━━━━━━━━━━━━━━━━━━━━━━━━━━━━━━━━━\u001b[0m \u001b[32m58.3/58.3 kB\u001b[0m \u001b[31m7.9 MB/s\u001b[0m eta \u001b[36m0:00:00\u001b[0m\n",
            "\u001b[?25hRequirement already satisfied: exceptiongroup in /usr/local/lib/python3.10/dist-packages (from anyio->httpx<1,>=0.21.0->replicate) (1.2.0)\n",
            "Installing collected packages: h11, httpcore, httpx, replicate\n",
            "Successfully installed h11-0.14.0 httpcore-1.0.2 httpx-0.25.2 replicate-0.21.0\n"
          ]
        }
      ],
      "source": [
        "# @title Install Replicate\n",
        "!pip install replicate"
      ]
    },
    {
      "cell_type": "markdown",
      "source": [
        "##2. Set Replicate API token.\n",
        "\n",
        "This code assigns a Replicate API token to the environment variable \"REPLICATE_API_TOKEN\" using the generated token . The token authenticates access to Replicate services. The comment provides a link to generate such tokens on Replicate's website."
      ],
      "metadata": {
        "id": "sFTSpliVoGgA"
      }
    },
    {
      "cell_type": "code",
      "execution_count": 2,
      "metadata": {
        "id": "cFmhr3PSf4G2"
      },
      "outputs": [],
      "source": [
        "API = \"r8_Gu4J2GcVxSL7QRKJR72b0vXwkJZcxxC0ThuW0\"\n",
        "import os\n",
        "\n",
        "os.environ[\"REPLICATE_API_TOKEN\"] = API #find it here: https://replicate.com/signin?next=/account/api-tokens\n"
      ]
    },
    {
      "cell_type": "markdown",
      "source": [
        "##3. Generate image with Replicate.\n",
        "\n",
        "This code utilizes the Replicate library to generate an image based on the prompt \"water spilling from a full glass of water.\" It leverages the stable-diffusion model from stability-ai, using a specific version. The result is stored in the `output` variable.\n",
        "\n",
        "\n",
        "\n",
        "\n",
        "\n"
      ],
      "metadata": {
        "id": "99b2KkrToOPY"
      }
    },
    {
      "cell_type": "code",
      "execution_count": 11,
      "metadata": {
        "colab": {
          "base_uri": "https://localhost:8080/"
        },
        "id": "0zz83wA6cqSF",
        "outputId": "ce9b2a3f-e2c0-4dfe-a802-521512f254e6"
      },
      "outputs": [
        {
          "output_type": "execute_result",
          "data": {
            "text/plain": [
              "['https://replicate.delivery/pbxt/Clfvq0d0LWRkYKOEQdtlVrr2fPxvtMHBO05ZtznrkfxsAX9jA/out-0.png']"
            ]
          },
          "metadata": {},
          "execution_count": 11
        }
      ],
      "source": [
        "# @title Generate Image\n",
        "prompt = \"water spilling from a full glass of water\"\n",
        "import replicate\n",
        "\n",
        "output = replicate.run(\n",
        "  \"stability-ai/stable-diffusion:27b93a2413e7f36cd83da926f3656280b2931564ff050bf9575f1fdf9bcd7478\",\n",
        "  input={\"prompt\":prompt}\n",
        ")\n",
        "\n",
        "output"
      ]
    },
    {
      "cell_type": "markdown",
      "source": [
        "##4. Display Replicate-generated image.\n",
        "\n",
        "\n",
        "This code uses IPython's `Image` module to display an image generated by Replicate. The variable `output_image` likely contains the image URL obtained from the previous Replicate generation, and it is presented using the `Image` class.\n",
        "\n",
        "\n",
        "\n",
        "\n",
        "\n",
        "\n"
      ],
      "metadata": {
        "id": "0HNTesaHoSYo"
      }
    },
    {
      "cell_type": "code",
      "execution_count": 12,
      "metadata": {
        "colab": {
          "base_uri": "https://localhost:8080/",
          "height": 534
        },
        "id": "hwXEISnemCLj",
        "outputId": "51161ce1-fd32-4957-8d76-639698ff341a"
      },
      "outputs": [
        {
          "output_type": "execute_result",
          "data": {
            "text/html": [
              "<img src=\"https://replicate.delivery/pbxt/Clfvq0d0LWRkYKOEQdtlVrr2fPxvtMHBO05ZtznrkfxsAX9jA/out-0.png\"/>"
            ],
            "text/plain": [
              "<IPython.core.display.Image object>"
            ]
          },
          "metadata": {},
          "execution_count": 12
        }
      ],
      "source": [
        "\n",
        "from IPython.display import Image\n",
        "output_image = output\n",
        "Image(url=output_image[0])"
      ]
    },
    {
      "cell_type": "markdown",
      "source": [
        "##5. Generate animated water spilling gif.\n",
        "\n",
        "This code utilizes Replicate to generate an animated GIF. The animation depicts the process of water spilling from a full glass to the glass becoming empty, with a ping-pong effect. The specific model used is \"andreasjansson/stable-diffusion-animation\" with a given version."
      ],
      "metadata": {
        "id": "tlvYwhh7oVq_"
      }
    },
    {
      "cell_type": "code",
      "execution_count": 17,
      "metadata": {
        "colab": {
          "base_uri": "https://localhost:8080/"
        },
        "id": "Misa5E4QiWNZ",
        "outputId": "4197a858-4b5b-4b0c-bfe5-f471393e9e9a"
      },
      "outputs": [
        {
          "output_type": "execute_result",
          "data": {
            "text/plain": [
              "<generator object Prediction.output_iterator at 0x7f6d7ce19f50>"
            ]
          },
          "metadata": {},
          "execution_count": 17
        }
      ],
      "source": [
        "# @title Video/gif/animation/Generation\n",
        "import replicate\n",
        "\n",
        "output = replicate.run(\n",
        "    \"andreasjansson/stable-diffusion-animation:ca1f5e306e5721e19c473e0d094e6603f0456fe759c10715fcd6c1b79242d4a5\",\n",
        "    input={\n",
        "        \"prompt_start\": \"water spilling from a full glass of water\",\n",
        "        \"prompt_end\": \"the glass is empty\",\n",
        "        \"output_format\": \"gif\",\n",
        "        \"gif_ping_pong\": True\n",
        "    }\n",
        ")\n",
        "\n",
        "output\n"
      ]
    },
    {
      "cell_type": "markdown",
      "source": [
        "## 6.Print Replicate output details.\n",
        "\n",
        "This code iterates through the items in the `output` variable, likely containing details or metadata generated by the Replicate process. The comment refers to the Replicate documentation for understanding the output schema, specifically for the \"andreasjansson/stable-diffusion-animation\" model.\n",
        "\n",
        "\n",
        "\n",
        "\n",
        "\n"
      ],
      "metadata": {
        "id": "kNNm0SY7oY1P"
      }
    },
    {
      "cell_type": "code",
      "execution_count": 19,
      "metadata": {
        "id": "BB0LZJTyjA7Z"
      },
      "outputs": [],
      "source": [
        "# @title generate video\n",
        "for item in output:\n",
        "     #https://replicate.com/andreasjansson/stable-diffusion-animation/versions/ca1f5e306e5721e19c473e0d094e6603f0456fe759c10715fcd6c1b79242d4a5/api#output-schema\n",
        "    print(item)"
      ]
    },
    {
      "cell_type": "markdown",
      "source": [
        "## 7. Get Colab-ready video URL.\n",
        "\n",
        "This code likely extracts the URL for the generated video or GIF from the `item` variable and assigns it to the `gif_url` variable. The comment suggests that the URL is adjusted, possibly to make it suitable for use in a Colab environment.\n",
        "\n",
        "\n",
        "\n",
        "\n",
        "\n",
        "\n"
      ],
      "metadata": {
        "id": "w6fZwjtKoggI"
      }
    },
    {
      "cell_type": "code",
      "execution_count": 20,
      "metadata": {
        "id": "fuPgsixhkxM4"
      },
      "outputs": [],
      "source": [
        "# @title get the video on colab\n",
        "gif_url= item[0:len(item)]"
      ]
    },
    {
      "cell_type": "markdown",
      "source": [
        " ## 8.Fetch, display, and save GIF.\n",
        "\n",
        "\n",
        " This code retrieves a GIF using the provided URL (`gif_url`). It displays the GIF in the notebook, saves it locally as \"gif_output.gif,\" and then shows the saved GIF using the PIL library. If fetching fails, it prints an error message.\n",
        "\n",
        "\n",
        "\n",
        "\n",
        "\n"
      ],
      "metadata": {
        "id": "Hmz6QKmwUmw6"
      }
    },
    {
      "cell_type": "code",
      "execution_count": 21,
      "metadata": {
        "colab": {
          "base_uri": "https://localhost:8080/",
          "height": 534
        },
        "id": "6VPPvsE3km93",
        "outputId": "c718d314-c1da-474b-d915-26070897d63c"
      },
      "outputs": [
        {
          "output_type": "display_data",
          "data": {
            "text/html": [
              "<img src=\"https://replicate.delivery/pbxt/Gi65fvfIbsjuNEEfm1LQaYsTrdi7aywSCsnDcITi61QrTX9jA/video.gif\"/>"
            ],
            "text/plain": [
              "<IPython.core.display.Image object>"
            ]
          },
          "metadata": {}
        }
      ],
      "source": [
        "# @title Show the video\n",
        "import requests\n",
        "from IPython.display import display, Image\n",
        "from PIL import Image as PILImage\n",
        "from io import BytesIO\n",
        "response = requests.get(gif_url)\n",
        "if response.status_code == 200:\n",
        "    # Display the GIF in the notebook\n",
        "    display(Image(url=gif_url))\n",
        "\n",
        "    # Save the GIF in the Colab environment\n",
        "    with open(\"gif_output.gif\", \"wb\") as f:\n",
        "        f.write(response.content)\n",
        "\n",
        "    # Show a saved GIF using PIL\n",
        "    saved_gif = PILImage.open(\"gif_output.gif\")\n",
        "    saved_gif.show()\n",
        "else:\n",
        "    print(\"Failed to fetch GIF\")\n"
      ]
    },
    {
      "cell_type": "markdown",
      "source": [
        "# References\n",
        "\n",
        "* IPython Documentation — IPython 8.18.1 documentation. (n.d.). https://ipython.readthedocs.io/en/stable/\n",
        "+ Module: display — IPython 3.2.1 documentation. (n.d.). https://ipython.org/ipython-doc/3/api/generated/IPython.display.html\n",
        "\n",
        "+ Turna.GitHub - turna1/GenAI: Here, we focus on educating and enlightening the community about various Generative AI models through hands-on coding tutorials and informative articles. GitHub. https://github.com/turna1/GenAI\n",
        "\n"
      ],
      "metadata": {
        "id": "_Lj16ky3-Wip"
      }
    },
    {
      "cell_type": "markdown",
      "source": [
        "#Video Link"
      ],
      "metadata": {
        "id": "sqI9Y8FP2qBW"
      }
    },
    {
      "cell_type": "markdown",
      "source": [
        "# Thank you\n",
        "\n",
        "---"
      ],
      "metadata": {
        "id": "LX6Dmm0EV0DT"
      }
    }
  ],
  "metadata": {
    "colab": {
      "provenance": [],
      "include_colab_link": true
    },
    "kernelspec": {
      "display_name": "Python 3",
      "name": "python3"
    },
    "language_info": {
      "name": "python"
    }
  },
  "nbformat": 4,
  "nbformat_minor": 0
}